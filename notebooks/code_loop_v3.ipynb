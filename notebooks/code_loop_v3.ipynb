{
 "cells": [
  {
   "cell_type": "markdown",
   "id": "3ae46835",
   "metadata": {},
   "source": [
    "# Command line section"
   ]
  },
  {
   "cell_type": "code",
   "execution_count": null,
   "id": "ce757026",
   "metadata": {},
   "outputs": [],
   "source": [
    "import os\n",
    "\n",
    "import pandas as pd\n",
    "\n",
    "dir_in = 'E:\\AI_Project\\exp_vid1' # input directory\n",
    "vid_in = 'exp_vid1' # input file\n",
    "f_p_s = 1 # frames per second\n",
    "\n",
    "### command #1 (images from video) ###########################################################\n",
    "dir_cmd = dir_in.replace('\\\\', '/')\n",
    "dir_out = dir_cmd + '/' + vid_in + '_imgs'\n",
    "cmd_ffmpeg = 'ffmpeg -i '+dir_cmd+'/'+vid_in+'.mp4'+' -vf fps='+str(f_p_s)+' '+dir_cmd+'/'+vid_in+'_%04d.png'\n",
    "os.system(cmd_ffmpeg) # command\n",
    "print('Command for image generation executed:\\n')\n",
    "\n",
    "### command #2 (folder creation) #############################################################\n",
    "os.mkdir(dir_out) # command\n",
    "print('Folder for images created:\\n')\n",
    "\n",
    "### command #3 (moving images to folder) #####################################################\n",
    "cmd_move_raw = 'move '+dir_cmd+'/*.png'+' '+dir_out\n",
    "cmd_move = cmd_move_raw.replace('/', '\\\\')\n",
    "os.system(cmd_move) # command\n",
    "print('Images moved to the folder:\\n')\n",
    "\n",
    "### command #4 (creating the list of images as csv file) #####################################\n",
    "csv_list_out = dir_cmd+'/'+vid_in+'_list'\n",
    "csv_list_cmd = csv_list_out.replace('/', '\\\\')\n",
    "dir_out_cmd=dir_out.replace('/', '\\\\')\n",
    "write_dir= 'dir '+dir_out_cmd+' /b> '+csv_list_cmd+'.csv'\n",
    "os.system(write_dir) # command\n",
    "csv_in = csv_list_cmd+'.csv'\n",
    "img_list_df = pd.read_csv(csv_in, header=None)\n",
    "headerList=['File_name']\n",
    "img_list_df.to_csv(csv_in, header=headerList, index=False)\n",
    "print('File names list created')"
   ]
  },
  {
   "cell_type": "markdown",
   "id": "4e65051d",
   "metadata": {},
   "source": [
    "# Data Extraction section"
   ]
  },
  {
   "cell_type": "code",
   "execution_count": null,
   "id": "962b561e",
   "metadata": {},
   "outputs": [],
   "source": [
    "import pandas as pd\n",
    "import cv2\n",
    "\n",
    "dir_im = dir_out.replace('\\\\', '/')\n",
    "\n",
    "## reading csv file of image list ########################################################\n",
    "img_list_df = pd.read_csv(csv_in)\n",
    "\n",
    "## pre-allocation ########################################################################\n",
    "imag_name = []\n",
    "imag_time = []\n",
    "x_1 = []\n",
    "x_2 = []\n",
    "x_mid = []\n",
    "\n",
    "## looping over input images ##############################################################\n",
    "end = img_list_df.shape\n",
    "for i in range(end[0]):\n",
    "    img_name = img_list_df.loc[i].at[\"File_name\"]\n",
    "    imag_name.append(img_name)\n",
    "    ## extract time from image name #######################################################\n",
    "    res = [j for j in range(len(img_name)) if img_name.startswith(\"_\", j)]\n",
    "    idx1 = res[1]\n",
    "    idx2 = img_name.find(\".\")\n",
    "    res = img_name[idx1+1: idx2]\n",
    "    img_time = (int(res))/f_p_s\n",
    "    imag_time.append(img_time)\n",
    "    ## reading image ######################################################################\n",
    "    in_img=dir_im + '/' + img_name\n",
    "    image= cv2.imread(in_img)\n",
    "    ## extracting position data from image ################################################\n",
    "    original_image= image\n",
    "    gray= cv2.cvtColor(image,cv2.COLOR_BGR2GRAY)\n",
    "    edges= cv2.Canny(gray, 50,200)\n",
    "    contours, hierarchy= cv2.findContours(edges.copy(), cv2.RETR_EXTERNAL, cv2.CHAIN_APPROX_NONE)\n",
    "    sorted_contours= sorted(contours, key=cv2.contourArea, reverse= False)\n",
    "    smallest_item= sorted_contours[0]\n",
    "    M= cv2.moments(smallest_item)\n",
    "    x,y,w,h= cv2.boundingRect(smallest_item)\n",
    "    xcoordinate1= x\n",
    "    x_1.append(xcoordinate1)\n",
    "    xcoordinate2= x + w\n",
    "    x_2.append(xcoordinate2)\n",
    "    x_coord_mid = (xcoordinate2 + xcoordinate1)/2\n",
    "    x_mid.append(x_coord_mid)\n",
    "\n",
    "## saving extracted data to output csv file ###############################################\n",
    "list_of_tuples = list(zip(imag_name, imag_time, x_1, x_2, x_mid))\n",
    "df = pd.DataFrame(list_of_tuples, columns = ['Filename', 'Time', 'x-coord1', 'x-coord2', 'x-mid'])\n",
    "csv_out = csv_list_cmd+'_out.csv'\n",
    "df.to_csv(csv_out)\n",
    "print(\"Output written to csv file successfully\")"
   ]
  },
  {
   "cell_type": "markdown",
   "id": "0f170e96",
   "metadata": {},
   "source": [
    "# extras"
   ]
  },
  {
   "cell_type": "code",
   "execution_count": null,
   "id": "b1d1b881",
   "metadata": {},
   "outputs": [],
   "source": [
    "# import numpy as np\n",
    "# import matplotlib.pyplot as plt\n",
    "# type(img_list_df.iloc[0]) # use of iloc for dataframe indxing\n",
    "# print(img_list_df.loc[0].at[\"File_name\"]) # use of loc for dataframe indexing\n",
    "# img_list_np = img_list_df.to_numpy() # to convert a dataframe to a numpy array\n"
   ]
  }
 ],
 "metadata": {
  "kernelspec": {
   "display_name": "Python 3",
   "language": "python",
   "name": "python3"
  },
  "language_info": {
   "codemirror_mode": {
    "name": "ipython",
    "version": 3
   },
   "file_extension": ".py",
   "mimetype": "text/x-python",
   "name": "python",
   "nbconvert_exporter": "python",
   "pygments_lexer": "ipython3",
   "version": "3.8.8"
  }
 },
 "nbformat": 4,
 "nbformat_minor": 5
}
