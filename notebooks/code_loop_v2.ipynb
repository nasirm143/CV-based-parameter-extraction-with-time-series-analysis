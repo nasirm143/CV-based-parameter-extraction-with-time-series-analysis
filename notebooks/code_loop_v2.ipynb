{
 "cells": [
  {
   "cell_type": "code",
   "execution_count": 2,
   "id": "962b561e",
   "metadata": {},
   "outputs": [
    {
     "name": "stdout",
     "output_type": "stream",
     "text": [
      "Output written to csv file successfully\n"
     ]
    }
   ],
   "source": [
    "import pandas as pd\n",
    "import numpy as np\n",
    "import cv2\n",
    "import matplotlib.pyplot as plt\n",
    "\n",
    "dir_in = 'D:\\AI_Project\\Practice_vid_1_v11' # input directory\n",
    "file_in = 'pv1_img_list_test' # input file\n",
    "\n",
    "dir_im = dir_in.replace('\\\\', '/')\n",
    "csv_in = dir_im + '/' + file_in + '.csv'\n",
    "csv_out = dir_im + '/' + file_in + '_out.csv'\n",
    "\n",
    "img_list_df = pd.read_csv(csv_in)\n",
    "\n",
    "imag_name = []\n",
    "x_1 = []\n",
    "x_2 = []\n",
    "y_1 = []\n",
    "y_2 = []\n",
    "end = img_list_df.shape\n",
    "for i in range(end[0]):\n",
    "    img_name = img_list_df.loc[i].at[\"File_name\"]\n",
    "    imag_name.append(img_name)\n",
    "    in_img=dir_im + '/' + img_name\n",
    "    image= cv2.imread(in_img)\n",
    "    original_image= image\n",
    "    gray= cv2.cvtColor(image,cv2.COLOR_BGR2GRAY)\n",
    "    edges= cv2.Canny(gray, 50,200)\n",
    "    contours, hierarchy= cv2.findContours(edges.copy(), cv2.RETR_EXTERNAL, cv2.CHAIN_APPROX_NONE)\n",
    "    sorted_contours= sorted(contours, key=cv2.contourArea, reverse= False)\n",
    "    smallest_item= sorted_contours[0]\n",
    "    M= cv2.moments(smallest_item)\n",
    "    x,y,w,h= cv2.boundingRect(smallest_item)\n",
    "    xcoordinate1= x\n",
    "    x_1.append(xcoordinate1)\n",
    "    xcoordinate2= x + w\n",
    "    x_2.append(xcoordinate2)\n",
    "    ycoordinate1= y\n",
    "    y_1.append(ycoordinate1)\n",
    "    ycoordinate2= y + h\n",
    "    y_2.append(ycoordinate2)\n",
    "\n",
    "list_of_tuples = list(zip(imag_name, x_1, x_2, y_1, y_2))\n",
    "df = pd.DataFrame(list_of_tuples, columns = ['Filename', 'x-coord1', 'x-coord2', 'y-coord1', 'y-coord2'])\n",
    "df.to_csv(csv_out)\n",
    "print(\"Output written to csv file successfully\")"
   ]
  },
  {
   "cell_type": "code",
   "execution_count": null,
   "id": "b1d1b881",
   "metadata": {},
   "outputs": [],
   "source": [
    "# type(img_list_df.iloc[0]) # use of iloc for dataframe indxing\n",
    "# print(img_list_df.loc[0].at[\"File_name\"]) # use of loc for dataframe indexing\n",
    "# img_list_np = img_list_df.to_numpy() # to convert a dataframe to a numpy array"
   ]
  }
 ],
 "metadata": {
  "kernelspec": {
   "display_name": "Python 3 (ipykernel)",
   "language": "python",
   "name": "python3"
  },
  "language_info": {
   "codemirror_mode": {
    "name": "ipython",
    "version": 3
   },
   "file_extension": ".py",
   "mimetype": "text/x-python",
   "name": "python",
   "nbconvert_exporter": "python",
   "pygments_lexer": "ipython3",
   "version": "3.8.18"
  }
 },
 "nbformat": 4,
 "nbformat_minor": 5
}
