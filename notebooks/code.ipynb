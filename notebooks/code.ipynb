{
 "cells": [
  {
   "cell_type": "code",
   "execution_count": 9,
   "metadata": {},
   "outputs": [
    {
     "name": "stdout",
     "output_type": "stream",
     "text": [
      "Command executed:\n",
      " ffmpeg -i E:\\AI_Project\\exp_vid1\\exp_vid1.mp4 -vf fps=5 E:\\AI_Project\\exp_vid1\\exp_vid1_%04d.png\n"
     ]
    },
    {
     "data": {
      "text/plain": [
       "0"
      ]
     },
     "execution_count": 9,
     "metadata": {},
     "output_type": "execute_result"
    }
   ],
   "source": [
    "import os\n",
    "# cmd_run = 'ffmpeg -i E:\\AI_Project\\exp_vid1\\exp_vid1.mp4'\n",
    "cmd_run = 'ffmpeg -i E:\\AI_Project\\exp_vid1\\exp_vid1.mp4 -vf fps=5 E:\\AI_Project\\exp_vid1\\exp_vid1_%04d.png'\n",
    "# cmd_run = 'dir/b> E:\\AI_Project\\exp_vid1\\myfiles.txt'\n",
    "print('Command executed:\\n', cmd_run)\n",
    "os.system(cmd_run)"
   ]
  },
  {
   "cell_type": "code",
   "execution_count": 11,
   "metadata": {},
   "outputs": [
    {
     "data": {
      "text/plain": [
       "list"
      ]
     },
     "execution_count": 11,
     "metadata": {},
     "output_type": "execute_result"
    }
   ],
   "source": [
    "file_list = os.listdir('E:\\AI_Project\\exp_vid1')\n",
    "type(file_list)"
   ]
  },
  {
   "cell_type": "code",
   "execution_count": null,
   "metadata": {},
   "outputs": [],
   "source": []
  }
 ],
 "metadata": {
  "kernelspec": {
   "display_name": "Python 3",
   "language": "python",
   "name": "python3"
  },
  "language_info": {
   "codemirror_mode": {
    "name": "ipython",
    "version": 3
   },
   "file_extension": ".py",
   "mimetype": "text/x-python",
   "name": "python",
   "nbconvert_exporter": "python",
   "pygments_lexer": "ipython3",
   "version": "3.8.5"
  }
 },
 "nbformat": 4,
 "nbformat_minor": 5
}
