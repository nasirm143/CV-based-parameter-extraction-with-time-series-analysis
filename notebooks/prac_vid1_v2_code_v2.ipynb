{
 "cells": [
  {
   "cell_type": "code",
   "execution_count": 1,
   "metadata": {},
   "outputs": [
    {
     "name": "stdout",
     "output_type": "stream",
     "text": [
      "Image loaded successfully\n",
      "Image grayscaled successfully\n",
      "Canny applied successfully\n",
      "Contours found successfully\n",
      "Countours sorted successfully\n",
      "Largest item found successfully\n",
      "required parameters defined\n"
     ]
    }
   ],
   "source": [
    "import cv2\n",
    "import matplotlib.pyplot as plt\n",
    "\n",
    "# Input image name only\n",
    "img_name = 'pv1_v2_000019'\n",
    "\n",
    "\n",
    "in_img='D:/AI_Project/Practice_vid_1_v2/' + img_name + '.png'\n",
    "image= cv2.imread(in_img)\n",
    "print(\"Image loaded successfully\")\n",
    "original_image= image\n",
    "gray= cv2.cvtColor(image,cv2.COLOR_BGR2GRAY)\n",
    "print(\"Image grayscaled successfully\")\n",
    "edges= cv2.Canny(gray, 50,200)\n",
    "print(\"Canny applied successfully\")\n",
    "contours, hierarchy= cv2.findContours(edges.copy(), cv2.RETR_EXTERNAL, cv2.CHAIN_APPROX_NONE)\n",
    "print(\"Contours found successfully\")\n",
    "sorted_contours= sorted(contours, key=cv2.contourArea, reverse= False)\n",
    "print(\"Countours sorted successfully\")\n",
    "smallest_item= sorted_contours[0]\n",
    "print(\"Largest item found successfully\")\n",
    "M= cv2.moments(smallest_item)\n",
    "x,y,w,h= cv2.boundingRect(smallest_item)\n",
    "print(\"required parameters defined\")"
   ]
  },
  {
   "cell_type": "code",
   "execution_count": null,
   "metadata": {},
   "outputs": [],
   "source": [
    "xcoordinate1= x \n",
    "xcoordinate2= x + w\n",
    "print(\"x coordinates calculated\")\n",
    "# xcoordinate_center= int(M['m10']/M['m00'])\n",
    "# print(\"x center coordinate \", str(xcoordinate_center))"
   ]
  },
  {
   "cell_type": "code",
   "execution_count": null,
   "metadata": {},
   "outputs": [],
   "source": [
    "ycoordinate1= y \n",
    "ycoordinate2= y + h\n",
    "print(\"y coordinates calculated\")\n",
    "# ycoordinate_center= int(M['m01']/M['m00'])\n",
    "# print(\"y center coordinate \", str(ycoordinate_center))"
   ]
  },
  {
   "cell_type": "code",
   "execution_count": null,
   "metadata": {},
   "outputs": [],
   "source": [
    "print(\"Bob\")\n",
    "print(\"x coordinate 1: \", str(xcoordinate1))\n",
    "print(\"x coordinate 2: \", str(xcoordinate2))\n",
    "print(\"\")\n",
    "print(\"y coordinate 1: \", str(ycoordinate1))\n",
    "print(\"y coordinate 2: \", str(ycoordinate2))\n",
    "print(\"\")\n",
    "plt.imshow(image)\n",
    "plt.show()"
   ]
  },
  {
   "cell_type": "code",
   "execution_count": null,
   "metadata": {},
   "outputs": [],
   "source": [
    "import pandas as pd\n",
    "labels = [\"x_1\", \"x_2\", \"y_1\", \"y_2\"]\n",
    "list_out = [xcoordinate1, xcoordinate2, ycoordinate1, ycoordinate2]\n",
    "dict = {'coord':labels, 'values':list_out}\n",
    "\n",
    "df = pd.DataFrame(dict)\n",
    "# print(df)\n",
    "file_out = 'D:/AI_Project/Practice_vid_1_v2/' + img_name + '_out.csv'\n",
    "df.to_csv(file_out)\n",
    "print(\"Output written to file\")"
   ]
  },
  {
   "cell_type": "code",
   "execution_count": null,
   "metadata": {},
   "outputs": [],
   "source": []
  }
 ],
 "metadata": {
  "kernelspec": {
   "display_name": "Python 3",
   "language": "python",
   "name": "python3"
  },
  "language_info": {
   "codemirror_mode": {
    "name": "ipython",
    "version": 3
   },
   "file_extension": ".py",
   "mimetype": "text/x-python",
   "name": "python",
   "nbconvert_exporter": "python",
   "pygments_lexer": "ipython3",
   "version": "3.8.5"
  }
 },
 "nbformat": 4,
 "nbformat_minor": 4
}
